{
 "cells": [
  {
   "cell_type": "code",
   "execution_count": 1,
   "metadata": {
    "collapsed": true
   },
   "outputs": [],
   "source": [
    "import numpy as np\n",
    "import matplotlib.pyplot as plt\n",
    "%matplotlib inline"
   ]
  },
  {
   "cell_type": "code",
   "execution_count": 8,
   "metadata": {
    "collapsed": false
   },
   "outputs": [
    {
     "data": {
      "text/plain": [
       "array([ 1.,  2.,  3.,  4.,  5.])"
      ]
     },
     "execution_count": 8,
     "metadata": {},
     "output_type": "execute_result"
    }
   ],
   "source": [
    "a = np.array([1, 2, 3, 4, 5], dtype='float64')\n",
    "a"
   ]
  },
  {
   "cell_type": "code",
   "execution_count": 75,
   "metadata": {
    "collapsed": false
   },
   "outputs": [
    {
     "ename": "NameError",
     "evalue": "name 'A' is not defined",
     "output_type": "error",
     "traceback": [
      "\u001b[0;31m---------------------------------------------------------------------------\u001b[0m",
      "\u001b[0;31mNameError\u001b[0m                                 Traceback (most recent call last)",
      "\u001b[0;32m<ipython-input-75-47d605fc99ad>\u001b[0m in \u001b[0;36m<module>\u001b[0;34m()\u001b[0m\n\u001b[0;32m----> 1\u001b[0;31m \u001b[0mA\u001b[0m\u001b[0;34m-\u001b[0m\u001b[0mB\u001b[0m\u001b[0;34m.\u001b[0m\u001b[0mhead\u001b[0m\u001b[0;34m(\u001b[0m\u001b[0;34m)\u001b[0m\u001b[0;34m\u001b[0m\u001b[0m\n\u001b[0m\u001b[1;32m      2\u001b[0m \u001b[0mB\u001b[0m\u001b[0;34m-\u001b[0m\u001b[0mB\u001b[0m\u001b[0;34m.\u001b[0m\u001b[0mhead\u001b[0m\u001b[0;34m(\u001b[0m\u001b[0;34m)\u001b[0m\u001b[0;34m\u001b[0m\u001b[0m\n\u001b[1;32m      3\u001b[0m \u001b[0mC\u001b[0m\u001b[0;34m-\u001b[0m\u001b[0mB\u001b[0m\u001b[0;34m.\u001b[0m\u001b[0mhead\u001b[0m\u001b[0;34m(\u001b[0m\u001b[0;34m)\u001b[0m\u001b[0;34m\u001b[0m\u001b[0m\n\u001b[1;32m      4\u001b[0m \u001b[0mD\u001b[0m\u001b[0;34m-\u001b[0m\u001b[0mB\u001b[0m\u001b[0;34m.\u001b[0m\u001b[0mhead\u001b[0m\u001b[0;34m(\u001b[0m\u001b[0;34m)\u001b[0m\u001b[0;34m\u001b[0m\u001b[0m\n",
      "\u001b[0;31mNameError\u001b[0m: name 'A' is not defined"
     ]
    }
   ],
   "source": [
    "#A-B.head()\n",
    "#B-B.head()\n",
    "#C-B.head()\n",
    "#D-B.head()"
   ]
  },
  {
   "cell_type": "code",
   "execution_count": 7,
   "metadata": {
    "collapsed": false
   },
   "outputs": [
    {
     "data": {
      "text/plain": [
       "dtype('float64')"
      ]
     },
     "execution_count": 7,
     "metadata": {},
     "output_type": "execute_result"
    }
   ],
   "source": [
    "a.dtype"
   ]
  },
  {
   "cell_type": "code",
   "execution_count": 11,
   "metadata": {
    "collapsed": false
   },
   "outputs": [
    {
     "data": {
      "text/plain": [
       "array([[  1.,   2.,   3.,   4.,   5.],\n",
       "       [  6.,   7.,   8.,   9.,  10.]])"
      ]
     },
     "execution_count": 11,
     "metadata": {},
     "output_type": "execute_result"
    }
   ],
   "source": [
    "b = np.array([[1, 2, 3, 4, 5], [6, 7, 8, 9, 10]], dtype=np.float64)\n",
    "b"
   ]
  },
  {
   "cell_type": "code",
   "execution_count": 12,
   "metadata": {
    "collapsed": false
   },
   "outputs": [
    {
     "data": {
      "text/plain": [
       "array([[ 0.,  0.,  0.],\n",
       "       [ 0.,  0.,  0.],\n",
       "       [ 0.,  0.,  0.]])"
      ]
     },
     "execution_count": 12,
     "metadata": {},
     "output_type": "execute_result"
    }
   ],
   "source": [
    "np.zeros([3, 3], 'd')"
   ]
  },
  {
   "cell_type": "code",
   "execution_count": 14,
   "metadata": {
    "collapsed": false
   },
   "outputs": [
    {
     "data": {
      "text/plain": [
       "array([  0. ,   2.5,   5. ,   7.5,  10. ])"
      ]
     },
     "execution_count": 14,
     "metadata": {},
     "output_type": "execute_result"
    }
   ],
   "source": [
    "np.linspace(0, 10, 5)"
   ]
  },
  {
   "cell_type": "code",
   "execution_count": 16,
   "metadata": {
    "collapsed": false
   },
   "outputs": [
    {
     "data": {
      "text/plain": [
       "array([0, 2, 4, 6, 8])"
      ]
     },
     "execution_count": 16,
     "metadata": {},
     "output_type": "execute_result"
    }
   ],
   "source": [
    "np.arange(0,10,2)"
   ]
  },
  {
   "cell_type": "code",
   "execution_count": 21,
   "metadata": {
    "collapsed": false
   },
   "outputs": [
    {
     "data": {
      "text/plain": [
       "array([[-1.08867849,  0.2328784 ,  0.28464384],\n",
       "       [ 2.73299427, -1.27854139, -0.60545378],\n",
       "       [-0.19243746, -0.05470126,  0.6949658 ]])"
      ]
     },
     "execution_count": 21,
     "metadata": {},
     "output_type": "execute_result"
    }
   ],
   "source": [
    "np.random.standard_normal([3,3])"
   ]
  },
  {
   "cell_type": "code",
   "execution_count": 23,
   "metadata": {
    "collapsed": false
   },
   "outputs": [
    {
     "data": {
      "text/plain": [
       "array([[-1.11516814,  0.57682618,  0.18741981],\n",
       "       [ 0.38880294, -0.69215092, -1.35234714],\n",
       "       [ 0.25151112, -0.43102204, -0.67753713],\n",
       "       [-0.17665738, -0.51229017, -0.58971398]])"
      ]
     },
     "execution_count": 23,
     "metadata": {},
     "output_type": "execute_result"
    }
   ],
   "source": [
    "a = np.random.standard_normal([2,3])\n",
    "b = np.random.standard_normal([2,3])\n",
    "\n",
    "c = np.vstack((a,b))\n",
    "c"
   ]
  },
  {
   "cell_type": "code",
   "execution_count": 25,
   "metadata": {
    "collapsed": false
   },
   "outputs": [
    {
     "data": {
      "text/plain": [
       "array([[-1.11516814,  0.57682618,  0.18741981,  0.25151112, -0.43102204,\n",
       "        -0.67753713],\n",
       "       [ 0.38880294, -0.69215092, -1.35234714, -0.17665738, -0.51229017,\n",
       "        -0.58971398]])"
      ]
     },
     "execution_count": 25,
     "metadata": {},
     "output_type": "execute_result"
    }
   ],
   "source": [
    "np.hstack([a,b])"
   ]
  },
  {
   "cell_type": "code",
   "execution_count": 26,
   "metadata": {
    "collapsed": false
   },
   "outputs": [
    {
     "data": {
      "text/plain": [
       "array([[-1.11516814,  0.38880294],\n",
       "       [ 0.57682618, -0.69215092],\n",
       "       [ 0.18741981, -1.35234714]])"
      ]
     },
     "execution_count": 26,
     "metadata": {},
     "output_type": "execute_result"
    }
   ],
   "source": [
    "a.T"
   ]
  },
  {
   "cell_type": "code",
   "execution_count": 27,
   "metadata": {
    "collapsed": true
   },
   "outputs": [],
   "source": [
    "np.save('example.npy', a)"
   ]
  },
  {
   "cell_type": "code",
   "execution_count": 29,
   "metadata": {
    "collapsed": false
   },
   "outputs": [],
   "source": [
    "aa = np.load('example.npy')"
   ]
  },
  {
   "cell_type": "code",
   "execution_count": 30,
   "metadata": {
    "collapsed": false
   },
   "outputs": [
    {
     "data": {
      "text/plain": [
       "array([[-1.11516814,  0.57682618,  0.18741981],\n",
       "       [ 0.38880294, -0.69215092, -1.35234714]])"
      ]
     },
     "execution_count": 30,
     "metadata": {},
     "output_type": "execute_result"
    }
   ],
   "source": [
    "aa"
   ]
  },
  {
   "cell_type": "code",
   "execution_count": 33,
   "metadata": {
    "collapsed": false
   },
   "outputs": [
    {
     "data": {
      "text/plain": [
       "array([ 0.        ,  0.06346652,  0.12693304,  0.19039955,  0.25386607,\n",
       "        0.31733259,  0.38079911,  0.44426563,  0.50773215,  0.57119866,\n",
       "        0.63466518,  0.6981317 ,  0.76159822,  0.82506474,  0.88853126,\n",
       "        0.95199777,  1.01546429,  1.07893081,  1.14239733,  1.20586385,\n",
       "        1.26933037,  1.33279688,  1.3962634 ,  1.45972992,  1.52319644,\n",
       "        1.58666296,  1.65012947,  1.71359599,  1.77706251,  1.84052903,\n",
       "        1.90399555,  1.96746207,  2.03092858,  2.0943951 ,  2.15786162,\n",
       "        2.22132814,  2.28479466,  2.34826118,  2.41172769,  2.47519421,\n",
       "        2.53866073,  2.60212725,  2.66559377,  2.72906028,  2.7925268 ,\n",
       "        2.85599332,  2.91945984,  2.98292636,  3.04639288,  3.10985939,\n",
       "        3.17332591,  3.23679243,  3.30025895,  3.36372547,  3.42719199,\n",
       "        3.4906585 ,  3.55412502,  3.61759154,  3.68105806,  3.74452458,\n",
       "        3.8079911 ,  3.87145761,  3.93492413,  3.99839065,  4.06185717,\n",
       "        4.12532369,  4.1887902 ,  4.25225672,  4.31572324,  4.37918976,\n",
       "        4.44265628,  4.5061228 ,  4.56958931,  4.63305583,  4.69652235,\n",
       "        4.75998887,  4.82345539,  4.88692191,  4.95038842,  5.01385494,\n",
       "        5.07732146,  5.14078798,  5.2042545 ,  5.26772102,  5.33118753,\n",
       "        5.39465405,  5.45812057,  5.52158709,  5.58505361,  5.64852012,\n",
       "        5.71198664,  5.77545316,  5.83891968,  5.9023862 ,  5.96585272,\n",
       "        6.02931923,  6.09278575,  6.15625227,  6.21971879,  6.28318531])"
      ]
     },
     "execution_count": 33,
     "metadata": {},
     "output_type": "execute_result"
    }
   ],
   "source": [
    "x = np.linspace(0,2*np.pi,100)\n",
    "x"
   ]
  },
  {
   "cell_type": "code",
   "execution_count": 37,
   "metadata": {
    "collapsed": false
   },
   "outputs": [
    {
     "data": {
      "text/plain": [
       "([<matplotlib.axis.XTick at 0x10ddb5d30>,\n",
       "  <matplotlib.axis.XTick at 0x10e3c4438>,\n",
       "  <matplotlib.axis.XTick at 0x10e3a3208>,\n",
       "  <matplotlib.axis.XTick at 0x10e85af60>],\n",
       " <a list of 4 Text xticklabel objects>)"
      ]
     },
     "execution_count": 37,
     "metadata": {},
     "output_type": "execute_result"
    },
    {
     "data": {
      "image/png": "[encoded data removed]",
      "text/plain": [
       "<matplotlib.figure.Figure at 0x10e816048>"
      ]
     },
     "metadata": {},
     "output_type": "display_data"
    }
   ],
   "source": [
    "plt.figure(figsize=(6,4))\n",
    "\n",
    "plt.plot(x, np.sin(x), color = 'r')\n",
    "plt.xlabel('$x$')\n",
    "plt.ylabel('$sin(x)$')\n",
    "\n",
    "plt.xticks([0, np.pi/2, 3*np.pi/2, 2*np.pi], ['$0$', '$\\pi/2$', '$3 \\pi/2$', '$2 \\pi$'])"
   ]
  },
  {
   "cell_type": "code",
   "execution_count": 42,
   "metadata": {
    "collapsed": false
   },
   "outputs": [
    {
     "data": {
      "text/plain": [
       "2.7755575615628914e-17"
      ]
     },
     "execution_count": 42,
     "metadata": {},
     "output_type": "execute_result"
    }
   ],
   "source": [
    "np.dot(np.sin(x), np.cos(x))"
   ]
  },
  {
   "cell_type": "code",
   "execution_count": 43,
   "metadata": {
    "collapsed": false
   },
   "outputs": [
    {
     "data": {
      "text/plain": [
       "array([[  0.00000000e+00,   0.00000000e+00,   0.00000000e+00, ...,\n",
       "          0.00000000e+00,   0.00000000e+00,   0.00000000e+00],\n",
       "       [  6.34239197e-02,   6.32962268e-02,   6.29136624e-02, ...,\n",
       "          6.29136624e-02,   6.32962268e-02,   6.34239197e-02],\n",
       "       [  1.26592454e-01,   1.26337582e-01,   1.25573994e-01, ...,\n",
       "          1.25573994e-01,   1.26337582e-01,   1.26592454e-01],\n",
       "       ..., \n",
       "       [ -1.26592454e-01,  -1.26337582e-01,  -1.25573994e-01, ...,\n",
       "         -1.25573994e-01,  -1.26337582e-01,  -1.26592454e-01],\n",
       "       [ -6.34239197e-02,  -6.32962268e-02,  -6.29136624e-02, ...,\n",
       "         -6.29136624e-02,  -6.32962268e-02,  -6.34239197e-02],\n",
       "       [ -2.44929360e-16,  -2.44436238e-16,  -2.42958857e-16, ...,\n",
       "         -2.42958857e-16,  -2.44436238e-16,  -2.44929360e-16]])"
      ]
     },
     "execution_count": 43,
     "metadata": {},
     "output_type": "execute_result"
    }
   ],
   "source": [
    "np.outer(np.sin(x), np.cos(x))"
   ]
  },
  {
   "cell_type": "code",
   "execution_count": 45,
   "metadata": {
    "collapsed": false
   },
   "outputs": [
    {
     "data": {
      "text/plain": [
       "array([  1.        ,   2.11111111,   3.22222222,   4.33333333,\n",
       "         5.44444444,   6.55555556,   7.66666667,   8.77777778,\n",
       "         9.88888889,  11.        ])"
      ]
     },
     "execution_count": 45,
     "metadata": {},
     "output_type": "execute_result"
    }
   ],
   "source": [
    "v = np.linspace(1,11,10)\n",
    "v"
   ]
  },
  {
   "cell_type": "code",
   "execution_count": 47,
   "metadata": {
    "collapsed": false
   },
   "outputs": [
    {
     "data": {
      "text/plain": [
       "array([[   1.        ,    2.11111111,    3.22222222,    4.33333333,\n",
       "           5.44444444,    6.55555556,    7.66666667,    8.77777778,\n",
       "           9.88888889,   11.        ],\n",
       "       [   2.11111111,    4.45679012,    6.80246914,    9.14814815,\n",
       "          11.49382716,   13.83950617,   16.18518519,   18.5308642 ,\n",
       "          20.87654321,   23.22222222],\n",
       "       [   3.22222222,    6.80246914,   10.38271605,   13.96296296,\n",
       "          17.54320988,   21.12345679,   24.7037037 ,   28.28395062,\n",
       "          31.86419753,   35.44444444],\n",
       "       [   4.33333333,    9.14814815,   13.96296296,   18.77777778,\n",
       "          23.59259259,   28.40740741,   33.22222222,   38.03703704,\n",
       "          42.85185185,   47.66666667],\n",
       "       [   5.44444444,   11.49382716,   17.54320988,   23.59259259,\n",
       "          29.64197531,   35.69135802,   41.74074074,   47.79012346,\n",
       "          53.83950617,   59.88888889],\n",
       "       [   6.55555556,   13.83950617,   21.12345679,   28.40740741,\n",
       "          35.69135802,   42.97530864,   50.25925926,   57.54320988,\n",
       "          64.82716049,   72.11111111],\n",
       "       [   7.66666667,   16.18518519,   24.7037037 ,   33.22222222,\n",
       "          41.74074074,   50.25925926,   58.77777778,   67.2962963 ,\n",
       "          75.81481481,   84.33333333],\n",
       "       [   8.77777778,   18.5308642 ,   28.28395062,   38.03703704,\n",
       "          47.79012346,   57.54320988,   67.2962963 ,   77.04938272,\n",
       "          86.80246914,   96.55555556],\n",
       "       [   9.88888889,   20.87654321,   31.86419753,   42.85185185,\n",
       "          53.83950617,   64.82716049,   75.81481481,   86.80246914,\n",
       "          97.79012346,  108.77777778],\n",
       "       [  11.        ,   23.22222222,   35.44444444,   47.66666667,\n",
       "          59.88888889,   72.11111111,   84.33333333,   96.55555556,\n",
       "         108.77777778,  121.        ]])"
      ]
     },
     "execution_count": 47,
     "metadata": {},
     "output_type": "execute_result"
    }
   ],
   "source": [
    "vv = np.outer(v, v)\n",
    "vv"
   ]
  },
  {
   "cell_type": "code",
   "execution_count": 48,
   "metadata": {
    "collapsed": false
   },
   "outputs": [
    {
     "data": {
      "text/plain": [
       "(10, 10)"
      ]
     },
     "execution_count": 48,
     "metadata": {},
     "output_type": "execute_result"
    }
   ],
   "source": [
    "vv.shape"
   ]
  },
  {
   "cell_type": "code",
   "execution_count": 49,
   "metadata": {
    "collapsed": false
   },
   "outputs": [
    {
     "data": {
      "text/plain": [
       "(10,)"
      ]
     },
     "execution_count": 49,
     "metadata": {},
     "output_type": "execute_result"
    }
   ],
   "source": [
    "v.shape"
   ]
  },
  {
   "cell_type": "code",
   "execution_count": 51,
   "metadata": {
    "collapsed": false
   },
   "outputs": [
    {
     "data": {
      "text/plain": [
       "array([[   2.        ,    3.11111111,    4.22222222,    5.33333333,\n",
       "           6.44444444,    7.55555556,    8.66666667,    9.77777778,\n",
       "          10.88888889,   12.        ],\n",
       "       [   4.22222222,    6.56790123,    8.91358025,   11.25925926,\n",
       "          13.60493827,   15.95061728,   18.2962963 ,   20.64197531,\n",
       "          22.98765432,   25.33333333],\n",
       "       [   6.44444444,   10.02469136,   13.60493827,   17.18518519,\n",
       "          20.7654321 ,   24.34567901,   27.92592593,   31.50617284,\n",
       "          35.08641975,   38.66666667],\n",
       "       [   8.66666667,   13.48148148,   18.2962963 ,   23.11111111,\n",
       "          27.92592593,   32.74074074,   37.55555556,   42.37037037,\n",
       "          47.18518519,   52.        ],\n",
       "       [  10.88888889,   16.9382716 ,   22.98765432,   29.03703704,\n",
       "          35.08641975,   41.13580247,   47.18518519,   53.2345679 ,\n",
       "          59.28395062,   65.33333333],\n",
       "       [  13.11111111,   20.39506173,   27.67901235,   34.96296296,\n",
       "          42.24691358,   49.5308642 ,   56.81481481,   64.09876543,\n",
       "          71.38271605,   78.66666667],\n",
       "       [  15.33333333,   23.85185185,   32.37037037,   40.88888889,\n",
       "          49.40740741,   57.92592593,   66.44444444,   74.96296296,\n",
       "          83.48148148,   92.        ],\n",
       "       [  17.55555556,   27.30864198,   37.0617284 ,   46.81481481,\n",
       "          56.56790123,   66.32098765,   76.07407407,   85.82716049,\n",
       "          95.58024691,  105.33333333],\n",
       "       [  19.77777778,   30.7654321 ,   41.75308642,   52.74074074,\n",
       "          63.72839506,   74.71604938,   85.7037037 ,   96.69135802,\n",
       "         107.67901235,  118.66666667],\n",
       "       [  22.        ,   34.22222222,   46.44444444,   58.66666667,\n",
       "          70.88888889,   83.11111111,   95.33333333,  107.55555556,\n",
       "         119.77777778,  132.        ]])"
      ]
     },
     "execution_count": 51,
     "metadata": {},
     "output_type": "execute_result"
    }
   ],
   "source": [
    "vv + v[:,np.newaxis]"
   ]
  },
  {
   "cell_type": "code",
   "execution_count": 53,
   "metadata": {
    "collapsed": false
   },
   "outputs": [
    {
     "data": {
      "text/plain": [
       "(10, 1)"
      ]
     },
     "execution_count": 53,
     "metadata": {},
     "output_type": "execute_result"
    }
   ],
   "source": [
    "v[:,np.newaxis].shape"
   ]
  },
  {
   "cell_type": "code",
   "execution_count": 54,
   "metadata": {
    "collapsed": false
   },
   "outputs": [
    {
     "data": {
      "text/plain": [
       "(10,)"
      ]
     },
     "execution_count": 54,
     "metadata": {},
     "output_type": "execute_result"
    }
   ],
   "source": [
    "v.shape"
   ]
  },
  {
   "cell_type": "code",
   "execution_count": 59,
   "metadata": {
    "collapsed": false
   },
   "outputs": [
    {
     "data": {
      "text/plain": [
       "array([[ 0.42240311,  0.12181363,  0.07414787,  0.68258517,  0.64716388],\n",
       "       [ 0.93844444,  0.52149359,  0.11619974,  0.18732722,  0.33568066],\n",
       "       [ 0.22957865,  0.66829808,  0.2267675 ,  0.34195341,  0.3444411 ],\n",
       "       [ 0.21086448,  0.07399538,  0.01233624,  0.75465405,  0.64354543],\n",
       "       [ 0.6994677 ,  0.44775378,  0.8223536 ,  0.95781406,  0.8820807 ]])"
      ]
     },
     "execution_count": 59,
     "metadata": {},
     "output_type": "execute_result"
    }
   ],
   "source": [
    "vv = np.random.random([5,5])\n",
    "vv"
   ]
  },
  {
   "cell_type": "code",
   "execution_count": 62,
   "metadata": {
    "collapsed": false
   },
   "outputs": [
    {
     "data": {
      "text/plain": [
       "0.22676749715040267"
      ]
     },
     "execution_count": 62,
     "metadata": {},
     "output_type": "execute_result"
    }
   ],
   "source": [
    "vv[2,2]"
   ]
  },
  {
   "cell_type": "code",
   "execution_count": 66,
   "metadata": {
    "collapsed": false
   },
   "outputs": [
    {
     "data": {
      "text/plain": [
       "array([ 0.07414787,  0.11619974])"
      ]
     },
     "execution_count": 66,
     "metadata": {},
     "output_type": "execute_result"
    }
   ],
   "source": [
    "v2 = vv[:2,2]\n",
    "v2"
   ]
  },
  {
   "cell_type": "code",
   "execution_count": 69,
   "metadata": {
    "collapsed": false
   },
   "outputs": [
    {
     "data": {
      "text/plain": [
       "array([ 0.07414787,  0.5       ])"
      ]
     },
     "execution_count": 69,
     "metadata": {},
     "output_type": "execute_result"
    }
   ],
   "source": [
    "v2[1] = 0.5\n",
    "v2"
   ]
  },
  {
   "cell_type": "code",
   "execution_count": 70,
   "metadata": {
    "collapsed": false
   },
   "outputs": [
    {
     "data": {
      "text/plain": [
       "array([[ 0.42240311,  0.12181363,  0.07414787,  0.68258517,  0.64716388],\n",
       "       [ 0.93844444,  0.52149359,  0.5       ,  0.18732722,  0.33568066],\n",
       "       [ 0.22957865,  0.66829808,  0.2267675 ,  0.34195341,  0.3444411 ],\n",
       "       [ 0.21086448,  0.07399538,  0.01233624,  0.75465405,  0.64354543],\n",
       "       [ 0.6994677 ,  0.44775378,  0.8223536 ,  0.95781406,  0.8820807 ]])"
      ]
     },
     "execution_count": 70,
     "metadata": {},
     "output_type": "execute_result"
    }
   ],
   "source": [
    "vv"
   ]
  },
  {
   "cell_type": "code",
   "execution_count": 71,
   "metadata": {
    "collapsed": false
   },
   "outputs": [
    {
     "data": {
      "text/plain": [
       "array([ 0.07414787,  0.5       ])"
      ]
     },
     "execution_count": 71,
     "metadata": {},
     "output_type": "execute_result"
    }
   ],
   "source": [
    "v3 = vv[:2,2].copy()\n",
    "v3"
   ]
  },
  {
   "cell_type": "code",
   "execution_count": 72,
   "metadata": {
    "collapsed": true
   },
   "outputs": [],
   "source": [
    "v3[1] = np.random.random(1)"
   ]
  },
  {
   "cell_type": "code",
   "execution_count": 73,
   "metadata": {
    "collapsed": false
   },
   "outputs": [
    {
     "data": {
      "text/plain": [
       "0.094906672003251313"
      ]
     },
     "execution_count": 73,
     "metadata": {},
     "output_type": "execute_result"
    }
   ],
   "source": [
    "v3[1] "
   ]
  },
  {
   "cell_type": "code",
   "execution_count": 74,
   "metadata": {
    "collapsed": false
   },
   "outputs": [
    {
     "data": {
      "text/plain": [
       "array([[ 0.42240311,  0.12181363,  0.07414787,  0.68258517,  0.64716388],\n",
       "       [ 0.93844444,  0.52149359,  0.5       ,  0.18732722,  0.33568066],\n",
       "       [ 0.22957865,  0.66829808,  0.2267675 ,  0.34195341,  0.3444411 ],\n",
       "       [ 0.21086448,  0.07399538,  0.01233624,  0.75465405,  0.64354543],\n",
       "       [ 0.6994677 ,  0.44775378,  0.8223536 ,  0.95781406,  0.8820807 ]])"
      ]
     },
     "execution_count": 74,
     "metadata": {},
     "output_type": "execute_result"
    }
   ],
   "source": [
    "vv"
   ]
  },
  {
   "cell_type": "code",
   "execution_count": null,
   "metadata": {
    "collapsed": true
   },
   "outputs": [],
   "source": [
    " "
   ]
  }
 ],
 "metadata": {
  "kernelspec": {
   "display_name": "Python 3",
   "language": "python",
   "name": "python3"
  },
  "language_info": {
   "codemirror_mode": {
    "name": "ipython",
    "version": 3
   },
   "file_extension": ".py",
   "mimetype": "text/x-python",
   "name": "python",
   "nbconvert_exporter": "python",
   "pygments_lexer": "ipython3",
   "version": "3.4.5"
  },
  "widgets": {
   "state": {},
   "version": "1.1.2"
  }
 },
 "nbformat": 4,
 "nbformat_minor": 0
}
